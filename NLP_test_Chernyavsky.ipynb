{
  "cells": [
    {
      "cell_type": "markdown",
      "source": [
        "# Анализ тональности текстов."
      ],
      "metadata": {
        "id": "y3dtDYOStLj0"
      }
    },
    {
      "cell_type": "markdown",
      "source": [
        "## Устанавливаем и импортируем необходимые библиотеки"
      ],
      "metadata": {
        "id": "9JT_UKrZtj27"
      }
    },
    {
      "cell_type": "code",
      "execution_count": 1,
      "metadata": {
        "colab": {
          "base_uri": "https://localhost:8080/"
        },
        "id": "3GADrZkinGD4",
        "outputId": "c32e82c7-891f-4b86-ef9d-4954974adc4e"
      },
      "outputs": [
        {
          "output_type": "stream",
          "name": "stdout",
          "text": [
            "Looking in indexes: https://pypi.org/simple, https://us-python.pkg.dev/colab-wheels/public/simple/\n",
            "Requirement already satisfied: transformers in /usr/local/lib/python3.9/dist-packages (4.27.4)\n",
            "Requirement already satisfied: filelock in /usr/local/lib/python3.9/dist-packages (from transformers) (3.10.7)\n",
            "Requirement already satisfied: packaging>=20.0 in /usr/local/lib/python3.9/dist-packages (from transformers) (23.0)\n",
            "Requirement already satisfied: numpy>=1.17 in /usr/local/lib/python3.9/dist-packages (from transformers) (1.22.4)\n",
            "Requirement already satisfied: regex!=2019.12.17 in /usr/local/lib/python3.9/dist-packages (from transformers) (2022.10.31)\n",
            "Requirement already satisfied: huggingface-hub<1.0,>=0.11.0 in /usr/local/lib/python3.9/dist-packages (from transformers) (0.13.3)\n",
            "Requirement already satisfied: pyyaml>=5.1 in /usr/local/lib/python3.9/dist-packages (from transformers) (6.0)\n",
            "Requirement already satisfied: tqdm>=4.27 in /usr/local/lib/python3.9/dist-packages (from transformers) (4.65.0)\n",
            "Requirement already satisfied: requests in /usr/local/lib/python3.9/dist-packages (from transformers) (2.27.1)\n",
            "Requirement already satisfied: tokenizers!=0.11.3,<0.14,>=0.11.1 in /usr/local/lib/python3.9/dist-packages (from transformers) (0.13.2)\n",
            "Requirement already satisfied: typing-extensions>=3.7.4.3 in /usr/local/lib/python3.9/dist-packages (from huggingface-hub<1.0,>=0.11.0->transformers) (4.5.0)\n",
            "Requirement already satisfied: charset-normalizer~=2.0.0 in /usr/local/lib/python3.9/dist-packages (from requests->transformers) (2.0.12)\n",
            "Requirement already satisfied: urllib3<1.27,>=1.21.1 in /usr/local/lib/python3.9/dist-packages (from requests->transformers) (1.26.15)\n",
            "Requirement already satisfied: certifi>=2017.4.17 in /usr/local/lib/python3.9/dist-packages (from requests->transformers) (2022.12.7)\n",
            "Requirement already satisfied: idna<4,>=2.5 in /usr/local/lib/python3.9/dist-packages (from requests->transformers) (3.4)\n"
          ]
        }
      ],
      "source": [
        "pip install transformers"
      ]
    },
    {
      "cell_type": "code",
      "execution_count": 2,
      "metadata": {
        "colab": {
          "base_uri": "https://localhost:8080/"
        },
        "id": "PhFokBBtrh6T",
        "outputId": "181b52b0-6233-4dfc-a3ce-5b3c3457c1fe"
      },
      "outputs": [
        {
          "output_type": "stream",
          "name": "stdout",
          "text": [
            "Looking in indexes: https://pypi.org/simple, https://us-python.pkg.dev/colab-wheels/public/simple/\n",
            "Requirement already satisfied: pymorphy2 in /usr/local/lib/python3.9/dist-packages (0.9.1)\n",
            "Requirement already satisfied: docopt>=0.6 in /usr/local/lib/python3.9/dist-packages (from pymorphy2) (0.6.2)\n",
            "Requirement already satisfied: pymorphy2-dicts-ru<3.0,>=2.4 in /usr/local/lib/python3.9/dist-packages (from pymorphy2) (2.4.417127.4579844)\n",
            "Requirement already satisfied: dawg-python>=0.7.1 in /usr/local/lib/python3.9/dist-packages (from pymorphy2) (0.7.2)\n"
          ]
        }
      ],
      "source": [
        "pip install pymorphy2"
      ]
    },
    {
      "cell_type": "code",
      "execution_count": 19,
      "metadata": {
        "colab": {
          "base_uri": "https://localhost:8080/"
        },
        "id": "cVr9KeEytkjF",
        "outputId": "0e1760a7-ea2b-4a75-fc80-519466ed055d"
      },
      "outputs": [
        {
          "output_type": "stream",
          "name": "stderr",
          "text": [
            "[nltk_data] Downloading package punkt to /root/nltk_data...\n",
            "[nltk_data]   Package punkt is already up-to-date!\n",
            "[nltk_data] Downloading package averaged_perceptron_tagger to\n",
            "[nltk_data]     /root/nltk_data...\n",
            "[nltk_data]   Package averaged_perceptron_tagger is already up-to-\n",
            "[nltk_data]       date!\n",
            "[nltk_data] Downloading package wordnet to /root/nltk_data...\n",
            "[nltk_data]   Package wordnet is already up-to-date!\n",
            "[nltk_data] Downloading package stopwords to /root/nltk_data...\n",
            "[nltk_data]   Package stopwords is already up-to-date!\n"
          ]
        }
      ],
      "source": [
        "import pandas as pd\n",
        "import numpy as np\n",
        "import re\n",
        "import nltk\n",
        "import warnings\n",
        "import torch\n",
        "import transformers\n",
        "import pymorphy2\n",
        "import matplotlib.pyplot as plt\n",
        "\n",
        "from pymystem3 import Mystem\n",
        "\n",
        "from textblob import TextBlob, Word\n",
        "\n",
        "nltk.download('punkt')\n",
        "nltk.download('averaged_perceptron_tagger')\n",
        "nltk.download('wordnet')\n",
        "\n",
        "warnings.filterwarnings('ignore')\n",
        "\n",
        "from sklearn.feature_extraction.text import CountVectorizer\n",
        "from nltk.corpus import stopwords\n",
        "nltk.download('stopwords')\n",
        "from sklearn.feature_extraction.text import TfidfVectorizer\n",
        "\n",
        "from sklearn import model_selection\n",
        "from sklearn.linear_model import LogisticRegression\n",
        "from sklearn.linear_model import SGDClassifier\n",
        "from sklearn.model_selection import cross_val_score\n",
        "from sklearn.metrics import f1_score\n",
        "from catboost import CatBoostClassifier\n",
        "\n",
        "from tqdm import notebook\n",
        "from sklearn.model_selection import train_test_split\n",
        "\n",
        "\n",
        "from sklearn.metrics import accuracy_score\n",
        "from sklearn.ensemble import RandomForestClassifier\n",
        "from sklearn.model_selection import GridSearchCV\n",
        "from sklearn.neighbors import KNeighborsClassifier"
      ]
    },
    {
      "cell_type": "markdown",
      "metadata": {
        "id": "BfP1kBRJlOe9"
      },
      "source": [
        "## Импортируем данные в формате .csv"
      ]
    },
    {
      "cell_type": "code",
      "execution_count": 4,
      "metadata": {
        "colab": {
          "base_uri": "https://localhost:8080/"
        },
        "id": "vqK_-QCBXy0_",
        "outputId": "5fde9223-409c-4f31-d3ad-1a2e397b2437"
      },
      "outputs": [
        {
          "output_type": "stream",
          "name": "stdout",
          "text": [
            "<class 'pandas.core.frame.DataFrame'>\n",
            "RangeIndex: 6637 entries, 0 to 6636\n",
            "Data columns (total 6 columns):\n",
            " #   Column                Non-Null Count  Dtype \n",
            "---  ------                --------------  ----- \n",
            " 0   sentence              6637 non-null   object\n",
            " 1   entity                6637 non-null   object\n",
            " 2   entity_tag            6637 non-null   object\n",
            " 3   entity_pos_start_rel  6637 non-null   int64 \n",
            " 4   entity_pos_end_rel    6637 non-null   int64 \n",
            " 5   label                 6637 non-null   int64 \n",
            "dtypes: int64(3), object(3)\n",
            "memory usage: 311.2+ KB\n"
          ]
        }
      ],
      "source": [
        "train_data = pd.read_csv('train_data.csv', encoding='utf-8', on_bad_lines='skip', sep='\\t')\n",
        "train_data.info()"
      ]
    },
    {
      "cell_type": "code",
      "execution_count": 5,
      "metadata": {
        "colab": {
          "base_uri": "https://localhost:8080/"
        },
        "id": "Hpxne8kklVNy",
        "outputId": "5bc355a4-a1bd-4d56-dc11-694db1eca31b"
      },
      "outputs": [
        {
          "output_type": "stream",
          "name": "stdout",
          "text": [
            "<class 'pandas.core.frame.DataFrame'>\n",
            "RangeIndex: 2845 entries, 0 to 2844\n",
            "Data columns (total 6 columns):\n",
            " #   Column                Non-Null Count  Dtype  \n",
            "---  ------                --------------  -----  \n",
            " 0   sentence              2845 non-null   object \n",
            " 1   entity                2845 non-null   object \n",
            " 2   entity_tag            2845 non-null   object \n",
            " 3   entity_pos_start_rel  2845 non-null   int64  \n",
            " 4   entity_pos_end_rel    2845 non-null   int64  \n",
            " 5   label                 0 non-null      float64\n",
            "dtypes: float64(1), int64(2), object(3)\n",
            "memory usage: 133.5+ KB\n"
          ]
        }
      ],
      "source": [
        "validation_data = pd.read_csv('validation_data.csv',encoding='utf-8', on_bad_lines='skip', sep='\\t')\n",
        "validation_data.info()"
      ]
    },
    {
      "cell_type": "code",
      "execution_count": 6,
      "metadata": {
        "colab": {
          "base_uri": "https://localhost:8080/"
        },
        "id": "AN-6CJrDlz8p",
        "outputId": "b1005afc-1963-4003-f025-4f32b093a64e"
      },
      "outputs": [
        {
          "output_type": "stream",
          "name": "stdout",
          "text": [
            "<class 'pandas.core.frame.DataFrame'>\n",
            "RangeIndex: 2845 entries, 0 to 2844\n",
            "Data columns (total 6 columns):\n",
            " #   Column                Non-Null Count  Dtype \n",
            "---  ------                --------------  ----- \n",
            " 0   sentence              2845 non-null   object\n",
            " 1   entity                2845 non-null   object\n",
            " 2   entity_tag            2845 non-null   object\n",
            " 3   entity_pos_start_rel  2845 non-null   int64 \n",
            " 4   entity_pos_end_rel    2845 non-null   int64 \n",
            " 5   label                 2845 non-null   int64 \n",
            "dtypes: int64(3), object(3)\n",
            "memory usage: 133.5+ KB\n"
          ]
        }
      ],
      "source": [
        "validation_data_labeled = pd.read_csv('validation_data_labeled.csv', encoding='utf-8', on_bad_lines='skip', sep='\\t')\n",
        "validation_data_labeled.info()"
      ]
    },
    {
      "cell_type": "code",
      "execution_count": 7,
      "metadata": {
        "colab": {
          "base_uri": "https://localhost:8080/"
        },
        "id": "By3GqIbamIV5",
        "outputId": "7730e4f9-4a4c-4880-dc78-72ad01a9dd66"
      },
      "outputs": [
        {
          "output_type": "stream",
          "name": "stdout",
          "text": [
            "<class 'pandas.core.frame.DataFrame'>\n",
            "RangeIndex: 1947 entries, 0 to 1946\n",
            "Data columns (total 5 columns):\n",
            " #   Column                Non-Null Count  Dtype \n",
            "---  ------                --------------  ----- \n",
            " 0   sentence              1947 non-null   object\n",
            " 1   entity                1947 non-null   object\n",
            " 2   entity_tag            1947 non-null   object\n",
            " 3   entity_pos_start_rel  1947 non-null   int64 \n",
            " 4   entity_pos_end_rel    1947 non-null   int64 \n",
            "dtypes: int64(2), object(3)\n",
            "memory usage: 76.2+ KB\n"
          ]
        }
      ],
      "source": [
        "final_data = pd.read_csv('final_data.csv', encoding='utf-8', on_bad_lines='skip', sep='\\t')\n",
        "final_data.info()"
      ]
    },
    {
      "cell_type": "markdown",
      "source": [
        "## Проводим очистку текста - удаляем стоп-слова. После этого приводим текст к нормальной форме с помощью лемматизации, так как стемминг является наивным (и следовательно малоэффективным) подходом. "
      ],
      "metadata": {
        "id": "TE0pp_FjsUf6"
      }
    },
    {
      "cell_type": "code",
      "execution_count": 8,
      "metadata": {
        "id": "_GUE1CcGqaFr"
      },
      "outputs": [],
      "source": [
        "def clean_text(text):\n",
        "    prom = re.sub(r'[^а-яА-Я]',' ', text).split()\n",
        "    return ' '.join(prom)\n",
        "\n",
        "def lemmatization(text):\n",
        "    morph = pymorphy2.MorphAnalyzer()\n",
        "    words = text.split() # разбиваем текст на слова\n",
        "    result = []\n",
        "    for word in words:\n",
        "        p = morph.parse(word)[0]\n",
        "        result.append(p.normal_form)\n",
        "    answer = \" \".join(result)\n",
        "    return answer"
      ]
    },
    {
      "cell_type": "code",
      "execution_count": 9,
      "metadata": {
        "id": "oLnijAOVPS3h"
      },
      "outputs": [],
      "source": [
        "train_data['clean'] = train_data['sentence'].apply(clean_text)\n",
        "train_data['lem_tokens'] = train_data['clean'].apply(lemmatization)\n",
        "\n",
        "validation_data['clean'] = validation_data['sentence'].apply(clean_text)\n",
        "validation_data['lem_tokens'] = validation_data['clean'].apply(lemmatization)\n",
        "\n",
        "validation_data_labeled['clean'] = validation_data_labeled['sentence'].apply(clean_text)\n",
        "validation_data_labeled['lem_tokens'] = validation_data_labeled['clean'].apply(lemmatization)\n",
        "\n",
        "final_data['clean'] = final_data['sentence'].apply(clean_text)\n",
        "final_data['lem_tokens'] = final_data['clean'].apply(lemmatization)"
      ]
    },
    {
      "cell_type": "markdown",
      "metadata": {
        "id": "Tj3GcBaNmj8l"
      },
      "source": [
        "В рамках работы произведена обработка текста при помощи различных алгоритмов векторизации, а также произведен тест различных моделей машинного обучения"
      ]
    },
    {
      "cell_type": "markdown",
      "metadata": {
        "id": "L9E2b4CUncdb"
      },
      "source": [
        "## Подготавливаем данные с помощью CountVectorizer()"
      ]
    },
    {
      "cell_type": "code",
      "execution_count": 10,
      "metadata": {
        "id": "10EqmoYWa6C2"
      },
      "outputs": [],
      "source": [
        "stop_words = set(stopwords.words('russian'))\n",
        "cv = CountVectorizer()\n",
        "\n",
        "train_lem, val_labeled_lem, final_lem = train_data['lem_tokens'].tolist(), validation_data_labeled['lem_tokens'].tolist(), final_data['lem_tokens'].tolist()\n",
        "train_ent, val_labeled_ent, final_ent = train_data['entity'].tolist(), validation_data_labeled['entity'].tolist(), final_data['entity'].tolist()\n",
        "\n",
        "features_train = cv.fit_transform(train_lem)\n",
        "target_train = train_data['label']"
      ]
    },
    {
      "cell_type": "code",
      "source": [
        "features_validation_labeled = cv.transform(val_labeled_lem)\n",
        "target_validation_labeled = validation_data_labeled['label']\n",
        "features_final = cv.transform(final_lem)\n",
        "\n",
        "features_train_entity = cv.transform(train_ent)\n",
        "features_validation_labeled_entity = cv.transform(val_labeled_ent)\n",
        "features_final_entity = cv.transform(final_ent)"
      ],
      "metadata": {
        "id": "MSYsK_v_Qywm"
      },
      "execution_count": 11,
      "outputs": []
    },
    {
      "cell_type": "code",
      "execution_count": 12,
      "metadata": {
        "colab": {
          "base_uri": "https://localhost:8080/",
          "height": 441
        },
        "id": "o30-Q9fTsLyk",
        "outputId": "bf2c9aba-d298-4531-f7df-9ca67ade2765"
      },
      "outputs": [
        {
          "output_type": "execute_result",
          "data": {
            "text/plain": [
              "                                            sentence                   entity  \\\n",
              "0  Джеймс «Бадди» Макгирт (James (Buddy) McGirt, ...               спортсмена   \n",
              "1  «За всю нашу долгую карьеру нам довелось играт...               музыкантов   \n",
              "2  Ранее, 7 декабря, толпа болельщиков перекрыла ...          Егоре Свиридове   \n",
              "3  В субботу, 21 июля 2018 года, на арене СК «Оли...               россиянина   \n",
              "4  Представитель талибов Забиулла Муджахид в твит...  американских захватчика   \n",
              "\n",
              "    entity_tag  entity_pos_start_rel  entity_pos_end_rel  label  \\\n",
              "0   PROFESSION                    86                  96      0   \n",
              "1   PROFESSION                   258                 268      0   \n",
              "2       PERSON                   175                 190      0   \n",
              "3  NATIONALITY                   122                 132      0   \n",
              "4   PROFESSION                   109                 132     -1   \n",
              "\n",
              "                                               clean  \\\n",
              "0  Джеймс Бадди Макгирт тренер Дадашева упрашивал...   \n",
              "1  За всю нашу долгую карьеру нам довелось играть...   \n",
              "2  Ранее декабря толпа болельщиков перекрыла движ...   \n",
              "3  В субботу июля года на арене СК Олимпийский в ...   \n",
              "4  Представитель талибов Забиулла Муджахид в твит...   \n",
              "\n",
              "                                          lem_tokens  \n",
              "0  джеймс бадди макгирт тренер дадашев упрашивать...  \n",
              "1  за весь наш долгий карьера мы довестись играть...  \n",
              "2  ранее декабрь толпа болельщик перекрыть движен...  \n",
              "3  в суббота июль год на арена ск олимпийский в м...  \n",
              "4  представитель талиб забиулла муджахид в твитте...  "
            ],
            "text/html": [
              "\n",
              "  <div id=\"df-63a5405e-11f1-4104-8823-127ddc3ac1f9\">\n",
              "    <div class=\"colab-df-container\">\n",
              "      <div>\n",
              "<style scoped>\n",
              "    .dataframe tbody tr th:only-of-type {\n",
              "        vertical-align: middle;\n",
              "    }\n",
              "\n",
              "    .dataframe tbody tr th {\n",
              "        vertical-align: top;\n",
              "    }\n",
              "\n",
              "    .dataframe thead th {\n",
              "        text-align: right;\n",
              "    }\n",
              "</style>\n",
              "<table border=\"1\" class=\"dataframe\">\n",
              "  <thead>\n",
              "    <tr style=\"text-align: right;\">\n",
              "      <th></th>\n",
              "      <th>sentence</th>\n",
              "      <th>entity</th>\n",
              "      <th>entity_tag</th>\n",
              "      <th>entity_pos_start_rel</th>\n",
              "      <th>entity_pos_end_rel</th>\n",
              "      <th>label</th>\n",
              "      <th>clean</th>\n",
              "      <th>lem_tokens</th>\n",
              "    </tr>\n",
              "  </thead>\n",
              "  <tbody>\n",
              "    <tr>\n",
              "      <th>0</th>\n",
              "      <td>Джеймс «Бадди» Макгирт (James (Buddy) McGirt, ...</td>\n",
              "      <td>спортсмена</td>\n",
              "      <td>PROFESSION</td>\n",
              "      <td>86</td>\n",
              "      <td>96</td>\n",
              "      <td>0</td>\n",
              "      <td>Джеймс Бадди Макгирт тренер Дадашева упрашивал...</td>\n",
              "      <td>джеймс бадди макгирт тренер дадашев упрашивать...</td>\n",
              "    </tr>\n",
              "    <tr>\n",
              "      <th>1</th>\n",
              "      <td>«За всю нашу долгую карьеру нам довелось играт...</td>\n",
              "      <td>музыкантов</td>\n",
              "      <td>PROFESSION</td>\n",
              "      <td>258</td>\n",
              "      <td>268</td>\n",
              "      <td>0</td>\n",
              "      <td>За всю нашу долгую карьеру нам довелось играть...</td>\n",
              "      <td>за весь наш долгий карьера мы довестись играть...</td>\n",
              "    </tr>\n",
              "    <tr>\n",
              "      <th>2</th>\n",
              "      <td>Ранее, 7 декабря, толпа болельщиков перекрыла ...</td>\n",
              "      <td>Егоре Свиридове</td>\n",
              "      <td>PERSON</td>\n",
              "      <td>175</td>\n",
              "      <td>190</td>\n",
              "      <td>0</td>\n",
              "      <td>Ранее декабря толпа болельщиков перекрыла движ...</td>\n",
              "      <td>ранее декабрь толпа болельщик перекрыть движен...</td>\n",
              "    </tr>\n",
              "    <tr>\n",
              "      <th>3</th>\n",
              "      <td>В субботу, 21 июля 2018 года, на арене СК «Оли...</td>\n",
              "      <td>россиянина</td>\n",
              "      <td>NATIONALITY</td>\n",
              "      <td>122</td>\n",
              "      <td>132</td>\n",
              "      <td>0</td>\n",
              "      <td>В субботу июля года на арене СК Олимпийский в ...</td>\n",
              "      <td>в суббота июль год на арена ск олимпийский в м...</td>\n",
              "    </tr>\n",
              "    <tr>\n",
              "      <th>4</th>\n",
              "      <td>Представитель талибов Забиулла Муджахид в твит...</td>\n",
              "      <td>американских захватчика</td>\n",
              "      <td>PROFESSION</td>\n",
              "      <td>109</td>\n",
              "      <td>132</td>\n",
              "      <td>-1</td>\n",
              "      <td>Представитель талибов Забиулла Муджахид в твит...</td>\n",
              "      <td>представитель талиб забиулла муджахид в твитте...</td>\n",
              "    </tr>\n",
              "  </tbody>\n",
              "</table>\n",
              "</div>\n",
              "      <button class=\"colab-df-convert\" onclick=\"convertToInteractive('df-63a5405e-11f1-4104-8823-127ddc3ac1f9')\"\n",
              "              title=\"Convert this dataframe to an interactive table.\"\n",
              "              style=\"display:none;\">\n",
              "        \n",
              "  <svg xmlns=\"http://www.w3.org/2000/svg\" height=\"24px\"viewBox=\"0 0 24 24\"\n",
              "       width=\"24px\">\n",
              "    <path d=\"M0 0h24v24H0V0z\" fill=\"none\"/>\n",
              "    <path d=\"M18.56 5.44l.94 2.06.94-2.06 2.06-.94-2.06-.94-.94-2.06-.94 2.06-2.06.94zm-11 1L8.5 8.5l.94-2.06 2.06-.94-2.06-.94L8.5 2.5l-.94 2.06-2.06.94zm10 10l.94 2.06.94-2.06 2.06-.94-2.06-.94-.94-2.06-.94 2.06-2.06.94z\"/><path d=\"M17.41 7.96l-1.37-1.37c-.4-.4-.92-.59-1.43-.59-.52 0-1.04.2-1.43.59L10.3 9.45l-7.72 7.72c-.78.78-.78 2.05 0 2.83L4 21.41c.39.39.9.59 1.41.59.51 0 1.02-.2 1.41-.59l7.78-7.78 2.81-2.81c.8-.78.8-2.07 0-2.86zM5.41 20L4 18.59l7.72-7.72 1.47 1.35L5.41 20z\"/>\n",
              "  </svg>\n",
              "      </button>\n",
              "      \n",
              "  <style>\n",
              "    .colab-df-container {\n",
              "      display:flex;\n",
              "      flex-wrap:wrap;\n",
              "      gap: 12px;\n",
              "    }\n",
              "\n",
              "    .colab-df-convert {\n",
              "      background-color: #E8F0FE;\n",
              "      border: none;\n",
              "      border-radius: 50%;\n",
              "      cursor: pointer;\n",
              "      display: none;\n",
              "      fill: #1967D2;\n",
              "      height: 32px;\n",
              "      padding: 0 0 0 0;\n",
              "      width: 32px;\n",
              "    }\n",
              "\n",
              "    .colab-df-convert:hover {\n",
              "      background-color: #E2EBFA;\n",
              "      box-shadow: 0px 1px 2px rgba(60, 64, 67, 0.3), 0px 1px 3px 1px rgba(60, 64, 67, 0.15);\n",
              "      fill: #174EA6;\n",
              "    }\n",
              "\n",
              "    [theme=dark] .colab-df-convert {\n",
              "      background-color: #3B4455;\n",
              "      fill: #D2E3FC;\n",
              "    }\n",
              "\n",
              "    [theme=dark] .colab-df-convert:hover {\n",
              "      background-color: #434B5C;\n",
              "      box-shadow: 0px 1px 3px 1px rgba(0, 0, 0, 0.15);\n",
              "      filter: drop-shadow(0px 1px 2px rgba(0, 0, 0, 0.3));\n",
              "      fill: #FFFFFF;\n",
              "    }\n",
              "  </style>\n",
              "\n",
              "      <script>\n",
              "        const buttonEl =\n",
              "          document.querySelector('#df-63a5405e-11f1-4104-8823-127ddc3ac1f9 button.colab-df-convert');\n",
              "        buttonEl.style.display =\n",
              "          google.colab.kernel.accessAllowed ? 'block' : 'none';\n",
              "\n",
              "        async function convertToInteractive(key) {\n",
              "          const element = document.querySelector('#df-63a5405e-11f1-4104-8823-127ddc3ac1f9');\n",
              "          const dataTable =\n",
              "            await google.colab.kernel.invokeFunction('convertToInteractive',\n",
              "                                                     [key], {});\n",
              "          if (!dataTable) return;\n",
              "\n",
              "          const docLinkHtml = 'Like what you see? Visit the ' +\n",
              "            '<a target=\"_blank\" href=https://colab.research.google.com/notebooks/data_table.ipynb>data table notebook</a>'\n",
              "            + ' to learn more about interactive tables.';\n",
              "          element.innerHTML = '';\n",
              "          dataTable['output_type'] = 'display_data';\n",
              "          await google.colab.output.renderOutput(dataTable, element);\n",
              "          const docLink = document.createElement('div');\n",
              "          docLink.innerHTML = docLinkHtml;\n",
              "          element.appendChild(docLink);\n",
              "        }\n",
              "      </script>\n",
              "    </div>\n",
              "  </div>\n",
              "  "
            ]
          },
          "metadata": {},
          "execution_count": 12
        }
      ],
      "source": [
        "train_data.head()"
      ]
    },
    {
      "cell_type": "markdown",
      "source": [
        "## Рассмотрим несколько алгоритмов для классификации - алгоритм метода ближайших соседей, стохастический градиентный спуск и случайный лес."
      ],
      "metadata": {
        "id": "gtYwF0dDkdLF"
      }
    },
    {
      "cell_type": "markdown",
      "source": [
        "Для первых двух используем gridsearch, для случайного леса построим график зависимости accuracy score от количества деревьев (n_estimators)."
      ],
      "metadata": {
        "id": "CgI3cYspk_tM"
      }
    },
    {
      "cell_type": "code",
      "source": [
        "parameters_grid_knn = {\n",
        "       'n_neighbors' : np.arange(5, 20),\n",
        "       'weights': ['uniform', 'distance'],\n",
        "       'p' : np.arange(1, 3),\n",
        "       \n",
        "}\n",
        "\n",
        "classifier = KNeighborsClassifier()\n",
        "grid_cv = GridSearchCV(classifier, parameters_grid_knn)\n",
        "grid_cv.fit(features_train, target_train)\n",
        "print(grid_cv.best_score_)\n",
        "print(grid_cv.best_params_)"
      ],
      "metadata": {
        "colab": {
          "base_uri": "https://localhost:8080/"
        },
        "id": "Bsz2fS2WenmL",
        "outputId": "96dfd305-70e4-4a24-a59f-0ce4af3d5ca8"
      },
      "execution_count": 15,
      "outputs": [
        {
          "output_type": "stream",
          "name": "stdout",
          "text": [
            "0.724273090856266\n",
            "{'n_neighbors': 15, 'p': 1, 'weights': 'uniform'}\n"
          ]
        }
      ]
    },
    {
      "cell_type": "code",
      "source": [
        "parameters_grid = {\n",
        "       'alpha' : np.linspace(0.00001, 0.0001, 5),\n",
        "       'learning_rate': ['optimal', 'constant', 'invscaling'],\n",
        "       'eta0' : np.linspace(0.00001, 0.0001, 5),\n",
        "       'max_iter' : np.arange(5, 10),\n",
        "}\n",
        "\n",
        "classifier = SGDClassifier()\n",
        "grid_cv = model_selection.GridSearchCV(classifier, parameters_grid)\n",
        "grid_cv.fit(features_train, target_train)\n",
        "print(grid_cv.best_score_)\n",
        "print(grid_cv.best_params_)"
      ],
      "metadata": {
        "colab": {
          "base_uri": "https://localhost:8080/"
        },
        "id": "eETgEPPibz6x",
        "outputId": "20a7bd61-8ff2-41e4-da95-5189612b6e7e"
      },
      "execution_count": 17,
      "outputs": [
        {
          "output_type": "stream",
          "name": "stdout",
          "text": [
            "0.7193009415204148\n",
            "{'alpha': 1e-05, 'eta0': 1e-05, 'learning_rate': 'constant', 'max_iter': 5}\n"
          ]
        }
      ]
    },
    {
      "cell_type": "code",
      "execution_count": 20,
      "metadata": {
        "colab": {
          "base_uri": "https://localhost:8080/",
          "height": 507
        },
        "id": "Arpdv5qcI9fM",
        "outputId": "f460fb49-9e23-436c-c7fb-a2844289d0d5"
      },
      "outputs": [
        {
          "output_type": "display_data",
          "data": {
            "text/plain": [
              "<Figure size 640x480 with 1 Axes>"
            ],
            "image/png": "[encoded data removed]"
          },
          "metadata": {}
        },
        {
          "output_type": "stream",
          "name": "stdout",
          "text": [
            "Если оценивать по accuracy, оптимальное количество деревьев равно 22\n",
            "accuracy score для k = 22 равна 0.70721\n"
          ]
        }
      ],
      "source": [
        "from sklearn.ensemble import RandomForestClassifier\n",
        "accuracy_array, f1_array = [], []\n",
        "for i in np.arange(5, 30):\n",
        "    new_model = RandomForestClassifier(n_estimators=i)\n",
        "    new_model.fit(features_train, target_train)\n",
        "    new_predictions = new_model.predict(features_validation_labeled)\n",
        "    accuracy_array.append(accuracy_score(target_validation_labeled, new_predictions))\n",
        "\n",
        "plt.figure()\n",
        "plt.xlabel('k (amount of neighbors)')\n",
        "plt.ylabel('accuracy score')\n",
        "plt.title('Dependence of accuracy score on k')\n",
        "plt.grid()\n",
        "plt.plot(accuracy_array, c='red')\n",
        "plt.show()\n",
        "\n",
        "\n",
        "er_num1 = list(enumerate(accuracy_array, 0))\n",
        "k_optimal_accuracy = max(er_num1, key=lambda i : i[1])\n",
        "print('Если оценивать по accuracy, оптимальное количество деревьев равно', k_optimal_accuracy[0])\n",
        "print(f'accuracy score для k = {k_optimal_accuracy[0]} равна', round(accuracy_array[k_optimal_accuracy[0]], 5))"
      ]
    },
    {
      "cell_type": "markdown",
      "metadata": {
        "id": "NgUAcOfkMPgL"
      },
      "source": [
        "Видно, что среднем accuracy score находится в пределах 0.71-0.72."
      ]
    },
    {
      "cell_type": "markdown",
      "metadata": {
        "id": "UXAHNSbKMwuG"
      },
      "source": [
        " ## Bert"
      ]
    },
    {
      "cell_type": "code",
      "execution_count": 21,
      "metadata": {
        "id": "mAArXr5jMW2r"
      },
      "outputs": [],
      "source": [
        "def ch_str(string):\n",
        "    if len(string) >= 512:\n",
        "        return string[:512]\n",
        "    else:\n",
        "        return string"
      ]
    },
    {
      "cell_type": "code",
      "execution_count": 22,
      "metadata": {
        "colab": {
          "base_uri": "https://localhost:8080/",
          "height": 423
        },
        "id": "ORmF0CPLNZLr",
        "outputId": "2e2cf6f3-8527-4483-d2d0-77d56bbafe59"
      },
      "outputs": [
        {
          "output_type": "execute_result",
          "data": {
            "text/plain": [
              "                                                  clean  label\n",
              "0     Джеймс Бадди Макгирт тренер Дадашева упрашивал...      0\n",
              "1     За всю нашу долгую карьеру нам довелось играть...      0\n",
              "2     Ранее декабря толпа болельщиков перекрыла движ...      0\n",
              "3     В субботу июля года на арене СК Олимпийский в ...      0\n",
              "4     Представитель талибов Забиулла Муджахид в твит...     -1\n",
              "...                                                 ...    ...\n",
              "2840  Дональд Трамп младший со сторонником избрания ...      0\n",
              "2841  Арпайо ожидал приговора он мог быть приговорен...      0\n",
              "2842  ноября сайт начал публикацию более тыс секретн...     -1\n",
              "2843  не будет запрещать песню Дин дон ведьма умерла...      0\n",
              "2844  июня года американский акт р Джеймс Гандольфин...      0\n",
              "\n",
              "[9482 rows x 2 columns]"
            ],
            "text/html": [
              "\n",
              "  <div id=\"df-80ea7aee-e134-4bdb-9176-6cdc96a5149d\">\n",
              "    <div class=\"colab-df-container\">\n",
              "      <div>\n",
              "<style scoped>\n",
              "    .dataframe tbody tr th:only-of-type {\n",
              "        vertical-align: middle;\n",
              "    }\n",
              "\n",
              "    .dataframe tbody tr th {\n",
              "        vertical-align: top;\n",
              "    }\n",
              "\n",
              "    .dataframe thead th {\n",
              "        text-align: right;\n",
              "    }\n",
              "</style>\n",
              "<table border=\"1\" class=\"dataframe\">\n",
              "  <thead>\n",
              "    <tr style=\"text-align: right;\">\n",
              "      <th></th>\n",
              "      <th>clean</th>\n",
              "      <th>label</th>\n",
              "    </tr>\n",
              "  </thead>\n",
              "  <tbody>\n",
              "    <tr>\n",
              "      <th>0</th>\n",
              "      <td>Джеймс Бадди Макгирт тренер Дадашева упрашивал...</td>\n",
              "      <td>0</td>\n",
              "    </tr>\n",
              "    <tr>\n",
              "      <th>1</th>\n",
              "      <td>За всю нашу долгую карьеру нам довелось играть...</td>\n",
              "      <td>0</td>\n",
              "    </tr>\n",
              "    <tr>\n",
              "      <th>2</th>\n",
              "      <td>Ранее декабря толпа болельщиков перекрыла движ...</td>\n",
              "      <td>0</td>\n",
              "    </tr>\n",
              "    <tr>\n",
              "      <th>3</th>\n",
              "      <td>В субботу июля года на арене СК Олимпийский в ...</td>\n",
              "      <td>0</td>\n",
              "    </tr>\n",
              "    <tr>\n",
              "      <th>4</th>\n",
              "      <td>Представитель талибов Забиулла Муджахид в твит...</td>\n",
              "      <td>-1</td>\n",
              "    </tr>\n",
              "    <tr>\n",
              "      <th>...</th>\n",
              "      <td>...</td>\n",
              "      <td>...</td>\n",
              "    </tr>\n",
              "    <tr>\n",
              "      <th>2840</th>\n",
              "      <td>Дональд Трамп младший со сторонником избрания ...</td>\n",
              "      <td>0</td>\n",
              "    </tr>\n",
              "    <tr>\n",
              "      <th>2841</th>\n",
              "      <td>Арпайо ожидал приговора он мог быть приговорен...</td>\n",
              "      <td>0</td>\n",
              "    </tr>\n",
              "    <tr>\n",
              "      <th>2842</th>\n",
              "      <td>ноября сайт начал публикацию более тыс секретн...</td>\n",
              "      <td>-1</td>\n",
              "    </tr>\n",
              "    <tr>\n",
              "      <th>2843</th>\n",
              "      <td>не будет запрещать песню Дин дон ведьма умерла...</td>\n",
              "      <td>0</td>\n",
              "    </tr>\n",
              "    <tr>\n",
              "      <th>2844</th>\n",
              "      <td>июня года американский акт р Джеймс Гандольфин...</td>\n",
              "      <td>0</td>\n",
              "    </tr>\n",
              "  </tbody>\n",
              "</table>\n",
              "<p>9482 rows × 2 columns</p>\n",
              "</div>\n",
              "      <button class=\"colab-df-convert\" onclick=\"convertToInteractive('df-80ea7aee-e134-4bdb-9176-6cdc96a5149d')\"\n",
              "              title=\"Convert this dataframe to an interactive table.\"\n",
              "              style=\"display:none;\">\n",
              "        \n",
              "  <svg xmlns=\"http://www.w3.org/2000/svg\" height=\"24px\"viewBox=\"0 0 24 24\"\n",
              "       width=\"24px\">\n",
              "    <path d=\"M0 0h24v24H0V0z\" fill=\"none\"/>\n",
              "    <path d=\"M18.56 5.44l.94 2.06.94-2.06 2.06-.94-2.06-.94-.94-2.06-.94 2.06-2.06.94zm-11 1L8.5 8.5l.94-2.06 2.06-.94-2.06-.94L8.5 2.5l-.94 2.06-2.06.94zm10 10l.94 2.06.94-2.06 2.06-.94-2.06-.94-.94-2.06-.94 2.06-2.06.94z\"/><path d=\"M17.41 7.96l-1.37-1.37c-.4-.4-.92-.59-1.43-.59-.52 0-1.04.2-1.43.59L10.3 9.45l-7.72 7.72c-.78.78-.78 2.05 0 2.83L4 21.41c.39.39.9.59 1.41.59.51 0 1.02-.2 1.41-.59l7.78-7.78 2.81-2.81c.8-.78.8-2.07 0-2.86zM5.41 20L4 18.59l7.72-7.72 1.47 1.35L5.41 20z\"/>\n",
              "  </svg>\n",
              "      </button>\n",
              "      \n",
              "  <style>\n",
              "    .colab-df-container {\n",
              "      display:flex;\n",
              "      flex-wrap:wrap;\n",
              "      gap: 12px;\n",
              "    }\n",
              "\n",
              "    .colab-df-convert {\n",
              "      background-color: #E8F0FE;\n",
              "      border: none;\n",
              "      border-radius: 50%;\n",
              "      cursor: pointer;\n",
              "      display: none;\n",
              "      fill: #1967D2;\n",
              "      height: 32px;\n",
              "      padding: 0 0 0 0;\n",
              "      width: 32px;\n",
              "    }\n",
              "\n",
              "    .colab-df-convert:hover {\n",
              "      background-color: #E2EBFA;\n",
              "      box-shadow: 0px 1px 2px rgba(60, 64, 67, 0.3), 0px 1px 3px 1px rgba(60, 64, 67, 0.15);\n",
              "      fill: #174EA6;\n",
              "    }\n",
              "\n",
              "    [theme=dark] .colab-df-convert {\n",
              "      background-color: #3B4455;\n",
              "      fill: #D2E3FC;\n",
              "    }\n",
              "\n",
              "    [theme=dark] .colab-df-convert:hover {\n",
              "      background-color: #434B5C;\n",
              "      box-shadow: 0px 1px 3px 1px rgba(0, 0, 0, 0.15);\n",
              "      filter: drop-shadow(0px 1px 2px rgba(0, 0, 0, 0.3));\n",
              "      fill: #FFFFFF;\n",
              "    }\n",
              "  </style>\n",
              "\n",
              "      <script>\n",
              "        const buttonEl =\n",
              "          document.querySelector('#df-80ea7aee-e134-4bdb-9176-6cdc96a5149d button.colab-df-convert');\n",
              "        buttonEl.style.display =\n",
              "          google.colab.kernel.accessAllowed ? 'block' : 'none';\n",
              "\n",
              "        async function convertToInteractive(key) {\n",
              "          const element = document.querySelector('#df-80ea7aee-e134-4bdb-9176-6cdc96a5149d');\n",
              "          const dataTable =\n",
              "            await google.colab.kernel.invokeFunction('convertToInteractive',\n",
              "                                                     [key], {});\n",
              "          if (!dataTable) return;\n",
              "\n",
              "          const docLinkHtml = 'Like what you see? Visit the ' +\n",
              "            '<a target=\"_blank\" href=https://colab.research.google.com/notebooks/data_table.ipynb>data table notebook</a>'\n",
              "            + ' to learn more about interactive tables.';\n",
              "          element.innerHTML = '';\n",
              "          dataTable['output_type'] = 'display_data';\n",
              "          await google.colab.output.renderOutput(dataTable, element);\n",
              "          const docLink = document.createElement('div');\n",
              "          docLink.innerHTML = docLinkHtml;\n",
              "          element.appendChild(docLink);\n",
              "        }\n",
              "      </script>\n",
              "    </div>\n",
              "  </div>\n",
              "  "
            ]
          },
          "metadata": {},
          "execution_count": 22
        }
      ],
      "source": [
        "grid_table = pd.concat([train_data, validation_data_labeled])\n",
        "bert_train_data = grid_table.copy()\n",
        "bert_train_data['clean'] = train_data['clean'].apply(ch_str)\n",
        "bert_res = bert_train_data.loc[:,['clean', 'label']]\n",
        "bert_res"
      ]
    },
    {
      "cell_type": "code",
      "execution_count": 23,
      "metadata": {
        "id": "SF8z06zgN8mf"
      },
      "outputs": [],
      "source": [
        "tokenizer = transformers.BertTokenizer.from_pretrained('bert-base-uncased')\n",
        "\n",
        "tokenized = bert_res['clean'].apply(\n",
        "    lambda x: tokenizer.encode(x, add_special_tokens=True))\n",
        "\n",
        "max_len = 0\n",
        "for i in tokenized.values:\n",
        "    max_len = max(len(i), max_len)\n",
        "round_ = np.array([i + [0]*(max_len - len(i)) for i in tokenized.values])\n",
        "\n",
        "attention_mask = np.where(round_ != 0, 1, 0)"
      ]
    },
    {
      "cell_type": "code",
      "execution_count": 24,
      "metadata": {
        "colab": {
          "base_uri": "https://localhost:8080/"
        },
        "id": "Q9b3ZMyiOIsR",
        "outputId": "a219630b-a37a-4fef-cf9b-a4eef762cdaa"
      },
      "outputs": [
        {
          "output_type": "stream",
          "name": "stderr",
          "text": [
            "Some weights of the model checkpoint at bert-base-uncased were not used when initializing BertModel: ['cls.predictions.transform.LayerNorm.weight', 'cls.seq_relationship.bias', 'cls.predictions.transform.dense.bias', 'cls.predictions.decoder.weight', 'cls.predictions.bias', 'cls.seq_relationship.weight', 'cls.predictions.transform.LayerNorm.bias', 'cls.predictions.transform.dense.weight']\n",
            "- This IS expected if you are initializing BertModel from the checkpoint of a model trained on another task or with another architecture (e.g. initializing a BertForSequenceClassification model from a BertForPreTraining model).\n",
            "- This IS NOT expected if you are initializing BertModel from the checkpoint of a model that you expect to be exactly identical (initializing a BertForSequenceClassification model from a BertForSequenceClassification model).\n"
          ]
        }
      ],
      "source": [
        "model = transformers.BertModel.from_pretrained(\"bert-base-uncased\")"
      ]
    },
    {
      "cell_type": "code",
      "execution_count": null,
      "metadata": {
        "id": "HWUqTT97OSlB"
      },
      "outputs": [],
      "source": [
        "batch_size = 100\n",
        "embeddings = []\n",
        "for i in notebook.tqdm(range(round_.shape[0] // batch_size)):\n",
        "    batch = torch.LongTensor(round_[batch_size*i:batch_size*(i+1)])\n",
        "    attention_mask_batch = torch.LongTensor(attention_mask[batch_size*i:batch_size *(i+1)])\n",
        "\n",
        "    with torch.no_grad():\n",
        "        batch_embeddings = model(batch, attention_mask=attention_mask_batch)\n",
        "\n",
        "    embeddings.append(batch_embeddings[0][:,0,:].numpy())"
      ]
    }
  ],
  "metadata": {
    "colab": {
      "provenance": []
    },
    "kernelspec": {
      "display_name": "Python 3",
      "name": "python3"
    },
    "language_info": {
      "name": "python"
    }
  },
  "nbformat": 4,
  "nbformat_minor": 0
}